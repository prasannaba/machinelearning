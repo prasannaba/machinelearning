{
 "cells": [
  {
   "cell_type": "markdown",
   "metadata": {},
   "source": [
    "# Logistic Regression\n",
    "- Implementing LR using\n",
    "    - Gradient Descent\n",
    "    - Stochastic Gradient Descent\n",
    "- Using sklearn.linear_model-> LogisticRegression & SGDCClassifer\n",
    "- Using sklearn.metrics -> confusion_matrix\n",
    "\n",
    "## Week 4: UCSD Machine Learning Fundamentals"
   ]
  },
  {
   "cell_type": "code",
   "execution_count": 1,
   "metadata": {
    "tags": []
   },
   "outputs": [],
   "source": [
    "import numpy as np\n",
    "from matplotlib import pyplot as plt\n",
    "from scipy.special import expit\n",
    "from sklearn.linear_model import LogisticRegression, SGDClassifier\n",
    "from sklearn.inspection import DecisionBoundaryDisplay\n",
    "from sklearn.manifold import Isomap\n",
    "from sklearn.metrics import ConfusionMatrixDisplay, confusion_matrix\n",
    "from sklearn import datasets, linear_model"
   ]
  },
  {
   "cell_type": "code",
   "execution_count": 2,
   "metadata": {
    "tags": []
   },
   "outputs": [],
   "source": [
    "def confusion_matix_display(y_actual, y_predicted, labels):\n",
    "    cm = confusion_matrix(y_true=y_actual, y_pred=y_predicted, labels=labels)\n",
    "    disp = ConfusionMatrixDisplay(\n",
    "            confusion_matrix=cm,\n",
    "            display_labels=labels\n",
    "    )\n",
    "    disp.plot()\n",
    "    plt.show()"
   ]
  },
  {
   "cell_type": "code",
   "execution_count": 3,
   "metadata": {
    "tags": []
   },
   "outputs": [
    {
     "data": {
      "text/plain": [
       "array([0, 1, 1, 1, 1, 1, 0, 0, 0, 1, 0, 1, 0, 1, 0, 1, 0, 1, 0, 0, 0, 0,\n",
       "       0, 0, 0, 0, 1, 1, 0, 0, 1, 0, 0, 1, 0, 1, 0, 1, 1, 1, 1, 1, 0, 1,\n",
       "       1, 1, 1, 0, 0, 0, 1, 0, 0, 0, 1, 1, 1, 1, 0, 0, 0, 1, 1, 1, 1, 1,\n",
       "       1, 1, 1, 0, 0, 0, 1, 0, 0, 1, 0, 1, 1, 1, 0, 0, 0, 1, 1, 1, 1, 1,\n",
       "       0, 1, 1, 0, 0, 0, 1, 0, 1, 0, 0, 0])"
      ]
     },
     "execution_count": 3,
     "metadata": {},
     "output_type": "execute_result"
    }
   ],
   "source": [
    "X, y = datasets.make_classification(n_features=8, scale=10)\n",
    "y"
   ]
  },
  {
   "cell_type": "code",
   "execution_count": 4,
   "metadata": {
    "tags": []
   },
   "outputs": [
    {
     "data": {
      "text/plain": [
       "array([0, 1, 1, 0, 1, 0, 1, 0, 1, 1, 1, 0, 0, 1, 1, 0, 1, 0, 1, 1, 1, 1,\n",
       "       0, 1, 0, 1, 1, 0, 1, 1, 1, 0, 1, 1, 0, 0, 1, 1, 0, 1, 0, 1, 1, 1,\n",
       "       0, 1, 0, 1, 1, 0, 1, 1, 0, 0, 1, 0, 1, 1, 1, 0, 1, 0, 0, 1, 1, 0,\n",
       "       0, 0, 0, 0, 1, 0, 0, 0, 1, 0, 1, 1, 1, 0, 1, 1, 1, 0, 1, 0, 0, 1,\n",
       "       1, 0, 1, 1, 1, 0, 1, 1, 1, 0, 1, 0])"
      ]
     },
     "execution_count": 4,
     "metadata": {},
     "output_type": "execute_result"
    }
   ],
   "source": [
    "# %%timeit -r 1 -n 0\n",
    "# include b in the w so instead of w.x + b it is w.x\n",
    "# w.x = woxo+w1x1+w2x2..... wdxd\n",
    "# wo is b & x0 = 1 in d rows 1 column.\n",
    "# so insert 1 column wise at location 0\n",
    "X = np.random.normal(size=400, loc=0, scale=10).reshape(100, 4)\n",
    "X = np.insert(X, 0, np.ones(len(X)), axis=1)\n",
    "\n",
    "# first element is the intercept & remaining are the weights\n",
    "w_actual = np.array([5, 4, 3, 2, 1])\n",
    "\n",
    "y = np.where(expit(np.dot(w_actual, X.T))>=0.5, 1, 0)\n",
    "y"
   ]
  },
  {
   "cell_type": "code",
   "execution_count": 5,
   "metadata": {
    "tags": []
   },
   "outputs": [],
   "source": [
    "class LogisticRegression_GD():\n",
    "    def __init__(self, eta=0.01, maxiter=300, precision=0.001):\n",
    "        self.eta = eta\n",
    "        self.precision = precision\n",
    "        self.maxiter = maxiter\n",
    "    def fit(self, X, y):\n",
    "        self.w = np.zeros((X.shape[1], ))\n",
    "        precision = np.full((X.shape[1], 1), self.precision)\n",
    "        diff = 1\n",
    "        self.iteration = 0\n",
    "        self.errors = []\n",
    "        while((diff > precision).any() and self.iteration < self.maxiter):\n",
    "            w_previous = self.w\n",
    "            der_temp = 0\n",
    "            x1 = X[range(50)]\n",
    "            y1 = y[range(50)]\n",
    "            self.w = self.w + self.eta * x1.T.dot((expit(-y1 * self.w.dot(x1.T))) * y1)\n",
    "\n",
    "            # for x1, y1 in zip(x[range(7)], y[range(7)]):\n",
    "            #     der_temp += - expit(-y1* np.dot(w, x1)) * x1 * y1\n",
    "            # w = w - der_temp\n",
    "            \n",
    "            self.iteration += 1\n",
    "            diff = abs(w_previous - self.w)\n",
    "            self.errors.append(diff)\n",
    "\n",
    "        self.errors = np.array(self.errors)\n",
    "        return self"
   ]
  },
  {
   "cell_type": "code",
   "execution_count": 6,
   "metadata": {
    "tags": []
   },
   "outputs": [
    {
     "name": "stdout",
     "output_type": "stream",
     "text": [
      "Total number of iterations: 300\n"
     ]
    },
    {
     "data": {
      "image/png": "[encoded data removed]",
      "text/plain": [
       "<Figure size 640x480 with 1 Axes>"
      ]
     },
     "metadata": {},
     "output_type": "display_data"
    }
   ],
   "source": [
    "lrgd = LogisticRegression_GD(eta=0.001)\n",
    "lrgd.fit(X, y)\n",
    "print(f'Total number of iterations: {lrgd.iteration}')\n",
    "plt.plot(range(lrgd.iteration), lrgd.errors)\n",
    "plt.show()\n"
   ]
  },
  {
   "cell_type": "code",
   "execution_count": 7,
   "metadata": {},
   "outputs": [],
   "source": [
    "# in prediction we are not using y in the sigmoid function, note the difference between this & next cell\n",
    "y_predicted = np.where(expit(np.dot(lrgd.w, X[range(50, 100)].T)) >= 0.5, 1, 0)\n",
    "# y_predicted"
   ]
  },
  {
   "cell_type": "code",
   "execution_count": 8,
   "metadata": {},
   "outputs": [
    {
     "data": {
      "text/plain": [
       "0.98"
      ]
     },
     "execution_count": 8,
     "metadata": {},
     "output_type": "execute_result"
    }
   ],
   "source": [
    "score = 1- np.sum(y_predicted!=y[range(50,100)])/len(y_predicted)\n",
    "score"
   ]
  },
  {
   "cell_type": "code",
   "execution_count": 9,
   "metadata": {},
   "outputs": [
    {
     "data": {
      "image/png": "[encoded data removed]",
      "text/plain": [
       "<Figure size 640x480 with 2 Axes>"
      ]
     },
     "metadata": {},
     "output_type": "display_data"
    }
   ],
   "source": [
    "confusion_matix_display(y[range(50,100)], y_predicted, np.array([0, 1]))"
   ]
  },
  {
   "cell_type": "code",
   "execution_count": 10,
   "metadata": {},
   "outputs": [],
   "source": [
    "class LogisticRegression_SGD():\n",
    "    def __init__(self, eta=0.01, maxiter=300, precision=0.001):\n",
    "        self.eta = eta\n",
    "        self.precision = precision\n",
    "        self.maxiter = maxiter\n",
    "    def fit(self, X, y):\n",
    "        # Stochastic Gradient Descent\n",
    "        self.w = np.zeros((X.shape[1], ))\n",
    "        precision = np.full((X.shape[1], 1), self.precision)\n",
    "        diff = 1\n",
    "        self.iteration = 0\n",
    "        self.errors = []\n",
    "        while((diff > precision).any() and self.iteration < self.maxiter):\n",
    "            i = np.random.permutation(50)\n",
    "            w_previous = self.w\n",
    "            for x1, y1 in zip(X[i], y[i]):\n",
    "                self.w = self.w + self.eta * expit(-y1* np.dot(self.w, x1)) * x1 * y1\n",
    "            self.iteration += 1\n",
    "            diff = abs(w_previous - self.w)\n",
    "            self.errors.append(diff)\n",
    "\n",
    "        self.errors = np.array(self.errors)\n",
    "        return self"
   ]
  },
  {
   "cell_type": "code",
   "execution_count": 11,
   "metadata": {},
   "outputs": [
    {
     "name": "stdout",
     "output_type": "stream",
     "text": [
      "Total number of iterations: 300\n"
     ]
    },
    {
     "data": {
      "image/png": "[encoded data removed]",
      "text/plain": [
       "<Figure size 640x480 with 1 Axes>"
      ]
     },
     "metadata": {},
     "output_type": "display_data"
    }
   ],
   "source": [
    "lrsgd = LogisticRegression_SGD(eta=0.001)\n",
    "lrsgd.fit(X, y)\n",
    "print(f'Total number of iterations: {lrsgd.iteration}')\n",
    "plt.plot(range(lrsgd.iteration), lrsgd.errors)\n",
    "plt.show()"
   ]
  },
  {
   "cell_type": "code",
   "execution_count": 12,
   "metadata": {},
   "outputs": [
    {
     "data": {
      "text/plain": [
       "array([0.81908876, 0.70285391, 0.46608288, 0.31532706, 0.17394985])"
      ]
     },
     "execution_count": 12,
     "metadata": {},
     "output_type": "execute_result"
    }
   ],
   "source": [
    "lrsgd.w"
   ]
  },
  {
   "cell_type": "code",
   "execution_count": null,
   "metadata": {},
   "outputs": [],
   "source": [
    "# in prediction we are not using y in the sigmoid function, note the difference between this & next cell\n",
    "y_predicted = np.where(expit(np.dot(lrsgd.w, X[range(50, 100)].T)) >= 0.5, 1, 0)\n",
    "# y_predicted"
   ]
  },
  {
   "cell_type": "code",
   "execution_count": null,
   "metadata": {},
   "outputs": [],
   "source": [
    "score = 1- np.sum(y_predicted!=y[range(50,100)])/len(y_predicted)\n",
    "score"
   ]
  },
  {
   "cell_type": "code",
   "execution_count": null,
   "metadata": {},
   "outputs": [],
   "source": [
    "confusion_matix_display(y[range(50,100)], y_predicted, np.array([0, 1]))"
   ]
  },
  {
   "cell_type": "code",
   "execution_count": null,
   "metadata": {},
   "outputs": [],
   "source": [
    " # probability that y is +1 or -1 using sigmoid function, \n",
    "    \n",
    "# Testing for data (+1 or -1) at indicies y[[50, 51, 52,...... 99]] based on parameter w estimated from training data indicies of x & y [[0, 1, 2, 3.... 49]] using GD or SGD..\n",
    "for i in range (50, 100):\n",
    "   # probability that y=+1 or -1, here we know the value of y from test data.\n",
    "    print(f'P(y = {y[i]}|X) is {expit(y[i] * np.dot(w, X[i]))*100:0.2f}%')"
   ]
  },
  {
   "cell_type": "code",
   "execution_count": null,
   "metadata": {},
   "outputs": [],
   "source": [
    "sgd = SGDClassifier(loss='log_loss', eta0=0.01)\n",
    "sgd.fit(X[range(50)], y[range(50)])\n",
    "y_predicted = sgd.predict(X[range(50, 100)])\n",
    "print(sgd.classes_, sgd.coef_, sgd.score(X[range(50, 100)], y[range(50, 100)]))\n",
    "confusion_matix_display(y[range(50,100)], y_predicted, np.array([0, 1]))"
   ]
  },
  {
   "cell_type": "code",
   "execution_count": null,
   "metadata": {},
   "outputs": [],
   "source": [
    "lr = LogisticRegression()\n",
    "lr.fit(X[range(50)], y[range(50)])\n",
    "y_predicted = lr.predict(X[range(50, 100)])\n",
    "print(y_predicted)"
   ]
  },
  {
   "cell_type": "code",
   "execution_count": null,
   "metadata": {},
   "outputs": [],
   "source": [
    "lr.classes_, lr.coef_, lr.score(X[range(50, 100)], y[range(50, 100)])"
   ]
  },
  {
   "cell_type": "code",
   "execution_count": null,
   "metadata": {},
   "outputs": [],
   "source": [
    "confusion_matix_display(y[range(50,100)], y_predicted, np.array([0, 1]))"
   ]
  },
  {
   "cell_type": "code",
   "execution_count": null,
   "metadata": {},
   "outputs": [],
   "source": [
    "iso = Isomap(n_components=2)"
   ]
  },
  {
   "cell_type": "code",
   "execution_count": null,
   "metadata": {},
   "outputs": [],
   "source": [
    "iso.fit(X)"
   ]
  },
  {
   "cell_type": "code",
   "execution_count": null,
   "metadata": {},
   "outputs": [],
   "source": [
    "data_projected = iso.transform(X)\n",
    "data_projected.shape"
   ]
  },
  {
   "cell_type": "code",
   "execution_count": null,
   "metadata": {},
   "outputs": [],
   "source": [
    "color_code = np.where(y==1, 'blue', 'black')"
   ]
  },
  {
   "cell_type": "code",
   "execution_count": null,
   "metadata": {},
   "outputs": [],
   "source": [
    "plt.scatter(data_projected[:, 0], data_projected[:, 1], c=color_code,\n",
    "            edgecolor='none', alpha=0.5)\n",
    "plt.clim(-0.5, 9.5);"
   ]
  }
 ],
 "metadata": {
  "kernelspec": {
   "display_name": "Python 3",
   "language": "python",
   "name": "python3"
  },
  "language_info": {
   "codemirror_mode": {
    "name": "ipython",
    "version": 3
   },
   "file_extension": ".py",
   "mimetype": "text/x-python",
   "name": "python",
   "nbconvert_exporter": "python",
   "pygments_lexer": "ipython3",
   "version": "3.10.8 | packaged by conda-forge | (main, Nov 22 2022, 08:16:33) [MSC v.1929 64 bit (AMD64)]"
  },
  "vscode": {
   "interpreter": {
    "hash": "67bfac4f4aefe1c16f1836a62d55b6e6baa7aba1ac5ce70e93ee8e90eb4f073a"
   }
  }
 },
 "nbformat": 4,
 "nbformat_minor": 4
}
